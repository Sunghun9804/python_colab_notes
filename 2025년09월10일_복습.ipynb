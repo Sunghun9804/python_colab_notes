{
  "cells": [
    {
      "cell_type": "code",
      "execution_count": null,
      "metadata": {
        "id": "PgQW-3kZFWLl"
      },
      "outputs": [],
      "source": [
        "# <변수란?>\n",
        "# 변수란 '변할 수 있는것'으로 무언가를 담는 '컵'이라고 생각하면 된다.\n",
        "a = 10 # 10을 a라는 컵(변수)에 담아줘! 라는 의미\n",
        "print(a)\n",
        "# 우리가 수학시간에 배운 등호(=)는 프로그래밍에서 (==)로 표시한다\n",
        "\n",
        "# <변수의 이름>\n",
        "# 각 컵을 구분하거나 가져올 수 있도록 붙이는 '라벨'이라고 생각하면 된다.\n",
        "# 이름을 붙이기 위해서는 몇가지 규칙이 있다.\n",
        "# 1. _혹은 영문자로 시작해야 한다.\n",
        "# 2. 숫자로 시작할 수 없다.\n",
        "# 3. 특수문자(+,-,$,^,&)은 사용할 수 없다.\n",
        "# 4. 변수 이름에 공백이 있으면 안된다.(보통 _로 이어준다)\n",
        "# 5. 파이썬의 예약어(for,while,if 등)는 사용할 수 없다.\n",
        "\n",
        "# <변수에 담기는 데이터 형태>\n",
        "# 변수에는 여러가지 자료가 담길수 있다.\n",
        "# 자료형이 숫자인 경우에는 정수, 실수, 8진수, 16진수 등이 있고 문자열인 경우에는 1개 이상의 문자가 담길 수 있다.\n",
        "\n",
        "integer_value = 123 # 정수\n",
        "float_value = 3.14 # 실수\n",
        "octal_value = 0o117 # 8진수(숫자0과 알파벳o를 추가)\n",
        "hex_value = 0x8ff # 16진수(숫자0과 알파벳x를 추가)\n",
        "\n",
        "print(integer_value)\n",
        "print(float_value)\n",
        "print(octal_value)\n",
        "print(hex_value)"
      ]
    },
    {
      "cell_type": "code",
      "execution_count": null,
      "metadata": {
        "id": "3q5XwpbuLLeK"
      },
      "outputs": [],
      "source": [
        "# <f-string 에 대해서 알아보자>\n",
        "# 문자열 포매팅이란, 문자열 안에 어떤 값이나 변수 따위를 삽입하는 방법이다.\n",
        "# f-string은 \"formatted string literal\"의 약자이다.\n",
        "\n",
        "# <간단한 예시>\n",
        "# 변수에 여러가지 자료 담기\n",
        "integer_value = 123 # 정수\n",
        "float_value = 3.14 # 실수\n",
        "octal_value = 0o117 # 8진수(숫자0과 알파벳o를 추가)\n",
        "hex_value = 0x8ff # 16진수(숫자0과 알파벳x를 추가)\n",
        "\n",
        "# print('int: '+int)\n",
        "# 위 코드를 실행하면 TypeError: can only concatenate str (not \"int\") to str 문구가 뜨면서 에러가 나온다.\n",
        "# 왜 그런것일까? -> python에서 문자+숫자 형태로는 출력해주지 않기 때문이다.\n",
        "\n",
        "# 이런경우 f-string 을 사용하면 문자열과 다른 타입의 데이터를 함께 출력할 수 있다.\n",
        "print(f'int: {integer_value}') #결과값은 int: 123이 나오는 것을 확인할 수 있다."
      ]
    },
    {
      "cell_type": "code",
      "execution_count": null,
      "metadata": {
        "id": "zIzDKpoZNg8y"
      },
      "outputs": [],
      "source": [
        "# 문자열에서 싱글쿼터(')나 더블쿼터(\"\") 모두 사용이 가능하다.\n",
        "name = 'Jeong seong-hun'  # name 이라는 컵(변수)에 Jeong seong-hun을 넣어줘\n",
        "content = \"My Contnet\"    # content 라는 컵(변수)에 My Contnet를 넣어줘\n",
        "\n",
        "# 여러줄의 문자열을 변수에 담을때 싱글쿼터(') 또는 더블쿼터(\"\")를 시작지점과 끝지점에 3개씩 사용하면 된다.\n",
        "multi = '''this is multi line string\n",
        "this is second line'''\n",
        "print(multi)\n",
        "\n",
        "print('name: '+name)\n",
        "print('content: '+content)\n",
        "print('multi: '+multi)\n",
        "\n",
        "# 문자열에 다른 타입의 데이터를 함께 출력할 경우...\n",
        "# 1. format 함수 사용\n",
        "# 중괄호 {}를 사용해 문자열 내에 포맷할 값을 지정\n",
        "age = 28\n",
        "\n",
        "print('내 이름은 {0} 이고, 나이는 {1} 입니다.'.format(name,age))\n",
        "#'문자열'.format(값1, 값2, ...)\n",
        "# 문자열 내부에 {}로 표시된 자리에 format() 안의 값들이 들어간다.\n",
        "# {0}, {1}은 순서를 의미한다. {0}은 첫번째 값, {2}는 두번째 값\n",
        "\n",
        "# 2. str함수 사용\n",
        "# Python의 내장함수이다.\n",
        "# 정수나 실수를 문자열 형태로 바꿔주는 함수이다.\n",
        "\n",
        "age = 28\n",
        "\n",
        "print('내 이름은 '+name+'이고 나이는 '+str(age)+'입니다.') # str(age) -> 정수값 age를 문자열 형태로 바꿔준다\n",
        "\n",
        "# 3. f-string 사용\n",
        "age = 28\n",
        "\n",
        "print(f'내 이름은 {name}이고, 나이는 {age} 입니다.') # .f-string 사용"
      ]
    },
    {
      "cell_type": "code",
      "execution_count": null,
      "metadata": {
        "id": "qbkofY7QF_6M"
      },
      "outputs": [],
      "source": [
        "# <Operation>\n",
        "# 컴퓨터의 가장 기본이 되는 기능은 연산이다.\n",
        "# 연산은 피 연산자(Operand)들을 연산자(operator)를 통해 계산 하는 것이다.\n",
        "# 연산자 종류\n",
        "# +: 더하기, -: 빼기, /: 나누기(소숫점도 반영해서 나온다), //:나누기(소수점을 버린다), %: 나머지 연산, **: 제곱\n",
        "\n",
        "result = 4+3 # 더하기\n",
        "print(result)\n",
        "\n",
        "result = 4-3 # 빼기\n",
        "print(result)\n",
        "\n",
        "result = 7/2 # 나누기 : 소숫점도 반영해서 입력\n",
        "print(result)\n",
        "\n",
        "result = 7//2 # 소숫점 버림\n",
        "print(result)\n",
        "\n",
        "result = 7%2 # 나머지 연산\n",
        "print(result)\n",
        "\n",
        "result = 7**2 # 제곱\n",
        "print(result)"
      ]
    },
    {
      "cell_type": "code",
      "execution_count": null,
      "metadata": {
        "id": "vIHrBBE9GANm"
      },
      "outputs": [],
      "source": [
        "# 주의할점\n",
        "# 파이썬에서 세미콜론을 쓰지 않지만 쓴다고해서 문제가 되지 않는다.\n",
        "i=5\n",
        "print(i);\n",
        "\n",
        "# 여러 문장을 한줄로 표현하고 싶을경우는 사용하게 된다.\n",
        "i = 10; print(i); # 하지만 가독성 차원에서 좋지 않음\n",
        "\n",
        "# 들여쓰기가 굉장히 중요하다.\n",
        "# 들여쓰기는 스페이스4번과 탭 으로 할수 있다.(혼용하면 안된다.)\n",
        "# 들여쓰기는 Tab 으로 통일 (shift+Tab)\n",
        "integer_value = 10\n",
        "print(integer_value)"
      ]
    },
    {
      "cell_type": "code",
      "execution_count": null,
      "metadata": {
        "id": "0tAjKXy4kdlF"
      },
      "outputs": [],
      "source": [
        "# 변수 요약\n",
        "# 1. 변수(variable) 는 무언가를 담는 컵과 같다.\n",
        "# 2. 여러 변수를 구분하거나 부르기 위한 이름이 있다.\n",
        "# 3. 변수에는 여러 데이터가 담길 수 있다."
      ]
    },
    {
      "cell_type": "code",
      "execution_count": null,
      "metadata": {
        "id": "weLX3-C-GBec"
      },
      "outputs": [],
      "source": [
        "# 조건 문(condition statement) 과 반복 문(loop statement)\n",
        "# 조건 문(condition statement) -> if\n",
        "# 살다 보면 생각대로 되지 않는 일이 많은데 프로그래밍에서도 이런 만약을 대비하기 위한 if 문이 존재한다.\n",
        "\n",
        "# if함수는 만약에 어떤 상황(조건)이 일어 났을 경우(true) 특정 내용을 실행 하도록 합니다.\n",
        "# if condition:           ----------->           if 두부 값 > 500:\n",
        "#   statement                                       외상으로 사온다\n",
        "\n",
        "# if 안의 조건을 만족(true)시키지 못할 경우가 있다.\n",
        "# 이럴 경우는 else 를 활용할 수 있다.\n",
        "\n",
        "# 두부가 있으면 두부를 사고 두부가 없으면 순두부를 사는 것을 만들어보자!\n",
        "\n",
        "# 1. 두부가 있다면?\n",
        "print('두부 가게에 간다.')\n",
        "\n",
        "tofubox = 1 # tofubox라는 변수(컵)에 1을 대입\n",
        "if tofubox > 0: # tofubox가 0보다 크면? 아래 내용 출력\n",
        "    print('두부를 산다')\n",
        "else: # tofubox가 0보다 큰 경우가 아니라면 아래 내용 출력\n",
        "    print('순두부를 산다.')\n",
        "\n",
        "print('집에 온다.')\n",
        "\n",
        "# 2. 두부가 없다면?\n",
        "print('두부 가게에 간다.')\n",
        "\n",
        "tofubox = 0 # tofubox라는 변수(컵)에 0을 대입\n",
        "if tofubox > 0: # tofubox가 0보다 크면? 아래 내용 출력\n",
        "    print('두부를 산다')\n",
        "else: # tofubox가 0보다 큰 경우가 아니라면 아래 내용 출력\n",
        "    print('순두부를 산다.')\n",
        "\n",
        "print('집에 온다.')"
      ]
    },
    {
      "cell_type": "code",
      "execution_count": null,
      "metadata": {
        "id": "MoiW1j__GBzU"
      },
      "outputs": [],
      "source": [
        "# if 문 2개와 if...else 의 차이는 무엇일까?\n",
        "# if 문 2개는 각각의 조건이 독립적으로 검사되며, 첫 번째 if문이 참이어도 두 번째 if문은 별개로 실행될 수 있다.\n",
        "# if...else는 첫 번째 if문의 조건이 참이면 if문 안의 코드를 실행하고 바로 전체 조건문을 빠져나오며, if문의 조건이 거짓일 경우에만 else문 안의 코드가 실행된다.\n",
        "# 즉, if-else는 상호 배타적인 조건에 따라 하나의 블록만 실행되도록 하지만, if문 2개는 서로 다른 조건들이 각각 검사되어 여러 코드가 실행될 수 있습니다.\n",
        "# if 문 2개 중 조건이 맞지 않으면 아무 코드도 실행이 되지 않는다."
      ]
    },
    {
      "cell_type": "code",
      "execution_count": null,
      "metadata": {
        "id": "df6jyBscGGP6"
      },
      "outputs": [],
      "source": [
        "# if 문 여러개 있는 코드 만들어보기\n",
        "\n",
        "# 콜라, 생수, 오렌지주스, 식혜, 이온음료 중에 하나를 선택해서 음료가 나오게끔 만들어보자\n",
        "item = '생수'\n",
        "\n",
        "# if문이 여러개 있으면 한칸식 띄어서 표시(개인취향)\n",
        "if item =='콜라': # item이 콜라면? 아래 내용 출력\n",
        "    print(f'{item} 가 나왔습니다.')\n",
        "\n",
        "if item =='생수': # item이 생수라면? 아래 내용 출력\n",
        "    print(f'{item} 가 나왔습니다.')\n",
        "    # print(item+'가 나왔습니다.')\n",
        "\n",
        "if item =='오렌지주스': # item이 오렌지주스라면? 아래 내용 출력\n",
        "    print(f'{item} 가 나왔습니다.')\n",
        "    # print(item+'가 나왔습니다.')\n",
        "\n",
        "if item =='식혜': # item이 식혜라면? 아래 내용 출력\n",
        "    print(f'{item} 가 나왔습니다.')\n",
        "    # print(item+'가 나왔습니다.')\n",
        "\n",
        "if item =='이온음료': # item이 이온음료라면? 아래 내용 출력\n",
        "    print(f'{item} 가 나왔습니다.')\n",
        "    # print(item+'가 나왔습니다.')\n",
        "\n",
        "\n",
        "# 만약 콜라, 생수, 오렌지주스, 식혜, 이온음료가 아닌 다른 음료가 나온다면?\n",
        "item = '블루베리스무디'\n",
        "\n",
        "if item =='콜라': # item이 콜라면? 아래 내용 출력\n",
        "    print(f'{item} 가 나왔습니다.')\n",
        "\n",
        "if item =='생수': # item이 생수라면? 아래 내용 출력\n",
        "    print(f'{item} 가 나왔습니다.')\n",
        "    # print(item+'가 나왔습니다.')\n",
        "\n",
        "if item =='오렌지주스': # item이 오렌지주스라면? 아래 내용 출력\n",
        "    print(f'{item} 가 나왔습니다.')\n",
        "    # print(item+'가 나왔습니다.')\n",
        "\n",
        "if item =='식혜': # item이 식혜라면? 아래 내용 출력\n",
        "    print(f'{item} 가 나왔습니다.')\n",
        "    # print(item+'가 나왔습니다.')\n",
        "\n",
        "if item =='이온음료': # item이 이온음료라면? 아래 내용 출력\n",
        "    print(f'{item} 가 나왔습니다.')\n",
        "    # print(item+'가 나왔습니다.')\n",
        "\n",
        "# item이 블루베리스무디인 경우에는 각각의 if 조건에 만족하는 경우가 없어서 아무 코드도 실행이 되지 않는 모습을 확인할 수 있다."
      ]
    },
    {
      "cell_type": "code",
      "execution_count": null,
      "metadata": {
        "id": "JTXIzla1GGSK"
      },
      "outputs": [],
      "source": [
        "# else는 조건에 부합하느냐 그렇지 않느냐 두가지 경우만 처리 가능합니다.\n",
        "# 여러 경우를 처리 할 경우는 else if 를 활용 할 수 있습니다.\n",
        "# else if문 만들기 - 만약 콜라, 생수, 오렌지주스, 식혜, 이온음료가 아닌 다른 음료가 나온다면?\n",
        "\n",
        "item = '커피'\n",
        "\n",
        "if item == '콜라': # item이 콜라인지?\n",
        "    print(f'{item} 가 나왔습니다.')\n",
        "\n",
        "elif item == '생수': # item이 생수인지?\n",
        "    print(f'{item} 가 나왔습니다.')\n",
        "\n",
        "elif item == '오렌지주스': # item이 오렌지주스인지?\n",
        "    print(f'{item} 가 나왔습니다.')\n",
        "\n",
        "elif item == '식혜': # item이 식혜인지?\n",
        "    print(f'{item} 가 나왔습니다.')\n",
        "\n",
        "elif item == '이온음료': # item이 이온음료인지?\n",
        "    print(f'{item} 가 나왔습니다.')\n",
        "\n",
        "else: # item이 콜라, 생수, 오렌지주스, 식혜, 이온음료가 아닌 경우\n",
        "    print(f'{item} 은(는) 보유하지 않은 음료 입니다.') # 결과는 커피 은(는) 보유하지 않은 음료 입니다. 라고 나옴"
      ]
    },
    {
      "cell_type": "code",
      "execution_count": null,
      "metadata": {
        "id": "2JTGVefWGGUS"
      },
      "outputs": [],
      "source": [
        "# if 안의 조건에는 어찌 되었던 true 가 되어야 실행된다.\n",
        "# 논리연산자 => A, 의미: A가 참일 경우\n",
        "# 논리연산자 => !A, 의미: A가 참이 아닐 경우\n",
        "# 논리연산자 => A != \"콜라\", 의미: A가 \"콜라\"가 아닐 경우\n",
        "# 논리연산자 => A==\"콜라\"&&B==100, A가 \"콜라\"이고 B가 100인 경우 (AND)\n",
        "# 논리연산자 => A==\"콜라\"||B==100, A가 \"콜라\"이거나 B가 100인 경우 (OR)"
      ]
    },
    {
      "cell_type": "code",
      "execution_count": null,
      "metadata": {
        "id": "Z7RUJxcQGGYU"
      },
      "outputs": [],
      "source": [
        "# 조건 문(condition statement) 요약\n",
        "# 1. 조건 문 중 if 문은 조건을 만족(true) 하면 실행된다.\n",
        "# 2. 조건을 만족하지 않는 경우 실행 되는 else 문도 있다.\n",
        "# 3. elif 를 통해 다른 조건을 제시 할 수도 있다."
      ]
    },
    {
      "cell_type": "code",
      "execution_count": null,
      "metadata": {
        "id": "dI7HiiKZGGcb"
      },
      "outputs": [],
      "source": [
        "# 반복문(loop Statement)\n",
        "# 반복(loop) 문은 단순한 일을 반복 할 때 사용한다.\n",
        "# 반복(loop)은 \"자동화\" 를 위해 가장 중요한 조건이다.\n",
        "# 반복 역시 \"특정한 조건\"이 만족 되어야 반복 된다.\n",
        "\n",
        "# for 문은 반복 횟수가 정해진 상태에 적합하다.\n",
        "\n",
        "# 물 10잔 떠 오기 만들어보자\n",
        "# for [하나씩가져올변수] in [범위]:\n",
        "\n",
        "for cup in range(1, 11):\n",
        "    print(f'물 {cup} 번째 잔 떠왔습니다.')\n",
        "# for함수는 'cup 을 하나씩 떠오자'라는 신호로 반복을 시작\n",
        "# range(1,11)은 몇번째 컵인지 1번부터 10번까지 알려주는 범위이다.\n",
        "# 첫 번째 반복에서는 cup = 1 이 되어 1번 컵에 물을 채운다.\n",
        "# 두 번째 반복에서는 cup = 2 이 되어 2번 컵에 물을 채운다.\n",
        "# 이런 식으로 반복하다가 열 번째 반복에서는 cup = 10 이 되어서 10번 컵에 물을 채운다.\n",
        "\n",
        "print()\n",
        "# 만약 커피를 타는데 한잔의 물에 믹스 2개씩을 넣어야 한다면?\n",
        "# 반복안에 반복이 발생된다. -> 이중for문\n",
        "\n",
        "# 커피 타는것도 추가해서 for문 추가해보자\n",
        "for cup in range(1, 11):\n",
        "    print(f'물 {cup} 번째 잔 떠왔습니다.')\n",
        "    for mix in range(1, 3):\n",
        "        print(f'{mix} 개의 믹스를 넣는다.')\n",
        "        for spoon in range(1,4):\n",
        "            print(f'수푼으로 {spoon} 번 젓는다.')"
      ]
    },
    {
      "cell_type": "code",
      "execution_count": null,
      "metadata": {
        "id": "ByHQXquBGGez"
      },
      "outputs": [],
      "source": [
        "cup = 0\n",
        "\n",
        "\"\"\" 조건이 무조건 참이될 경우 영원히 실행 되므로 멈출수 없다.\n",
        "while true: <- 영원히 실행\n",
        "    cup = cup + 1\n",
        "    print(cup)\n",
        "\"\"\"\n",
        "\n",
        "while cup<10: # cup이 10보다 작으면 계속 반복\n",
        "    cup = cup + 1\n",
        "    print(cup)"
      ]
    },
    {
      "cell_type": "code",
      "execution_count": null,
      "metadata": {
        "collapsed": true,
        "id": "iZtHs_o1GGg6"
      },
      "outputs": [],
      "source": [
        "import random\n",
        "\n",
        "number = random.randint(1,31) # 1~31 까지의 숫자를 앤덤하게 뽑아서 number에 대입\n",
        "print(f' 내 마음속 숫자: {number}')\n",
        "running = True # running 에 True 대입\n",
        "\n",
        "# while 은 오른쪽에 있는 조건 결과가 True 일 경우 반복되는 구문\n",
        "# running 이 초기에 True 이므로 무조건 실행되는 구조\n",
        "while running:\n",
        "    # 입력받은 값을 정수(int) 로 변환하여 guess 에 대입\n",
        "    guess = int(input('1~31 중 내가 생각한 숫자는?'))\n",
        "    print(f'입력받은 숫자 : {guess}')\n",
        "    if number > guess: # number 가 guess 보다 크다면? 아래 내용 출력\n",
        "        print('내가 생각한 숫자보다 작습니다.')\n",
        "    elif number < guess: # number 가 guess 보다 작다면? 아래 내용 출력\n",
        "        print('내가 생각한 숫자보다 큽니다.')\n",
        "    else: # # number 와 guess 가 서로 크지도 작지도 않으면? 아래 내용 출력\n",
        "        print('정답입니다.')\n",
        "        running = False # runnnig 변수는False 값으로 바뀌게 된다."
      ]
    },
    {
      "cell_type": "code",
      "source": [
        "# https://velog.io/@dankj1991/Python-loop-cond"
      ],
      "metadata": {
        "id": "0XVGAzQtD7P8"
      },
      "execution_count": null,
      "outputs": []
    }
  ],
  "metadata": {
    "accelerator": "GPU",
    "colab": {
      "gpuType": "T4",
      "provenance": [],
      "authorship_tag": "ABX9TyNrG48JGK7+7LijI5FXawsy"
    },
    "kernelspec": {
      "display_name": "Python 3",
      "name": "python3"
    },
    "language_info": {
      "name": "python"
    }
  },
  "nbformat": 4,
  "nbformat_minor": 0
}