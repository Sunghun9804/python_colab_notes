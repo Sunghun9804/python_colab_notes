{
  "nbformat": 4,
  "nbformat_minor": 0,
  "metadata": {
    "colab": {
      "private_outputs": true,
      "provenance": [],
      "authorship_tag": "ABX9TyP+blvQUHho9ELsPf4nVm6r"
    },
    "kernelspec": {
      "name": "python3",
      "display_name": "Python 3"
    },
    "language_info": {
      "name": "python"
    }
  },
  "cells": [
    {
      "cell_type": "code",
      "source": [
        "# range()함수 알아보기\n",
        "# 1. range 함수란?\n",
        "# 파이썬에서 range()함수는\" 일정 범위의 연속된 정수를 생성하는데 사용\"됩니다.\n",
        "# range()함수는 \"주로 for 반복문과 함께 사용\"되어 일정 횟수만큼 반복을 수행하거나, 특정 범위의 정수를 이용힌 작업을 할 때 유용하게 사용됩니다.\n",
        "\n",
        "# 2. range()함수 사용방법\n",
        "# - range(A): 0부터 A-1 까지의 숫자를 생성합니다.\n",
        "# - range(A,B): A부터 B-1 까지의 숫자를 생성합니다.\n",
        "# - range(A,B,C): A부터 B-1 까지 C 간격으로 숫자를 생성합니다.\n",
        "\n",
        "# 2.1 range()함수 첫 번째 형태 예시 - range(A)\n",
        "for i in range(10): # 0 부터 9(=10-1) 까지 숫자 생성후 반복\n",
        "    print(i)\n",
        "\n",
        "# 2.2 range()함수 두 번째 형태 예시 - range(A,B)\n",
        "for i in range(5,15):\n",
        "    print(i)\n",
        "\n",
        "# 2.3 range()함수 세 번째 형태 예시 - range(A,B,C)\n",
        "for i in range(0,20,2):\n",
        "    print(i)\n",
        "\n",
        "# 2.4 range()함수 역순\n",
        "# \"역순으로도 출력가능\"\n",
        "for i in range(10,0,-1):\n",
        "    print(i)\n",
        "\n",
        "# 2.5 range()함수를 이용한 리스트 생성\n",
        "# range() 함수는 list() 함수와 함께 사용하여 \"특정 범위의 정수 리스트\"를 생성할 수 있습니다.\n",
        "# 1부터 10까지의 정수를 포함하는 리스트를 작성해보자\n",
        "numbers = list(range(1,11))\n",
        "print(numbers)\n",
        "\n",
        "# 2.6 range()함수와 조건문 함께 사용하기\n",
        "# range() 함수와 조건문을 사용하여 \"특정 조건을 만족하는 정수에 대해 작업을 수행\"할 수 있습니다.\n",
        "# 1부터 100까지의 정수중에서 3의 배수만 출력하는 코드를 작성해보자!\n",
        "for i in range(1,101):\n",
        "    if i%3 == 0:\n",
        "        print(i)\n",
        "\n",
        "# 2.7 range()함수를 이용한 다중 반복문\n",
        "# 2단부터 9단까지의 구구단을 만들어보자!\n",
        "for i in range(2,10):\n",
        "    for j in range(1,10):\n",
        "        # print(i, '*', j, '=', i*j)\n",
        "        print(f'{i} * {j} = {i*j}')\n",
        "\n",
        "# 2.8 range()함수를 이용한 리스트 요소 접근\n",
        "# range 함수를 사용하여 \"리스트의 요소를 조작\"할 수 있습니다.\n",
        "a = [1,2,3,4,5]\n",
        "for i in range(len(a)):\n",
        "    a[i]*=2\n",
        "    print(a)\n",
        "\n",
        "# 3. range()함수 주의 사항\n",
        "# range() 함수를 사용할 때 주의할 점은 range(A,B)에서 B 값이 포함되지 않는다는 것입니다.\n",
        "for i in range(5): # 0 부터 4(=5-1) 까지 숫자 생성후 반복\n",
        "    print(i) # 0,1,2,3,4 출력"
      ],
      "metadata": {
        "id": "NrZayiKN0vDo"
      },
      "execution_count": null,
      "outputs": []
    },
    {
      "cell_type": "code",
      "source": [
        "# 두 가지 제어문 break와 continue에 대해 알아보겠습니다.\n",
        "# 이 두 키워드는 반복문의 흐름을 제어하는 데 사용되며, 적절히 활용하면 코드의 효율성과 가독성을 크게 향상시킬 수 있습니다.\n",
        "\n",
        "# break 문: 반복문 탈출하기\n",
        "# break 문은 현재 반복문을 즉시 종료하고 루프 밖으로 제어를 이동시킵니다.\n",
        "# 기본 사용법:\n",
        "for i in range(10):\n",
        "    if i == 5: # i가 5라면? break문 실행\n",
        "        break\n",
        "    print(i)\n",
        "print('실행 종료')\n",
        "\n",
        "# continue 문: 다음 반복으로 건너뛰기\n",
        "# continue 문은 현재 반복을 중단하고 다음 반복으로 즉시 넘어갑니다.\n",
        "for i in range(5):\n",
        "    if i == 2:\n",
        "        continue\n",
        "    print(i)\n",
        "print('실행 종료')\n",
        "\n",
        "# break와 continue의 차이점\n",
        "# \"break\"는 특정 조건이 만족되면 루프를 완전히 종료하고 빠져나가는 데 사용되며, 가장 안쪽의 루프만 종료시킵니다.\n",
        "# 반면 \"continue\"는 루프 전체를 끝내지 않고, 특정 조건에서 현재 반복만 건너뛰고 곧바로 다음 반복으로 넘어갑니다.\n",
        "# 따라서 \"break\"는 루프를 완전히 중단해야 할 때 쓰이고, \"continue\"는 특정 조건에서 일부 반복만 건너뛰어야 할 때 쓰입니다."
      ],
      "metadata": {
        "id": "b7ksqbcO0vFw"
      },
      "execution_count": null,
      "outputs": []
    },
    {
      "cell_type": "code",
      "source": [
        "# 빠져나가거나(break) 무시하기(continue)\n",
        "# programming 에서 문장들은 code block 안에서 실행 된다. 그리고 특별한 경우 영역 안의 내용을 모두 실행하지 않고 빠져 나오는 방법이 있다.\n",
        "# break 문 사용\n",
        "\n",
        "cup = 0 # cup이라는 변수에 0을 대입\n",
        "running = True\n",
        "\n",
        "while True: # while 은 오른쪽에 있는 조건 결과가 True 일 경우 반복되는 구문\n",
        "    cup += 1 # 컵에다가 1씩 증가\n",
        "    print(cup)\n",
        "    if cup == 10: # cup 값이 10이라면? 아래 내용 출력\n",
        "        break # 반복문 자체를 실행종료\n",
        "print('while 문 종료')\n",
        "\n",
        "# prigramming 에서 문장들은 code block 안에서 실행된다. 특별한 경우 무시하고 지나치는 방법도 있다.\n",
        "# continue 문 사용\n",
        "\n",
        "for i in range(1,10):\n",
        "    # 방법1\n",
        "    # if i == 3: # i가 3이라면? 밑에 내용 출력\n",
        "    #     continue # 무시하라는 의미, 위에 조건이 i == 3 이므로 3만 제외하고 반복문 실행\n",
        "    # if i == 6: # i가 6이라면? 밑에 내용 출력\n",
        "    #     continue # 무시하라는 의미, 위에 조건이 i == 6 이므로 6만 제외하고 반복문 실행\n",
        "    # if i == 9: # i가 9이라면? 밑에 내용 출력\n",
        "    #     continue # 무시하라는 의미, 위에 조건이 i == 9 이므로 9만 제외하고 반복문 실행\n",
        "\n",
        "    # 방법2\n",
        "    if i%3 == 0:\n",
        "        continue\n",
        "\n",
        "    # 방법3\n",
        "    # if (i == 3) | (i == 6) | (i == 9): # i가 3, 6, 9 라면? 밑에 내용 출력\n",
        "    #     continue # 무시하라는 의미, 위에 조건이 i == 3 이므로 3만 제외하고 반복문 실행\n",
        "\n",
        "    print(i)"
      ],
      "metadata": {
        "id": "wG9LubMf0vBn"
      },
      "execution_count": null,
      "outputs": []
    },
    {
      "cell_type": "code",
      "source": [
        "## (+=) 처럼 생긴게 잘 모르겠다??\n",
        "## 할당 연산자라고 한다. 할당 연산자에 대해서 잘 알아보자.\n",
        "\n",
        "# 할당 연산자는 변수에 값을 할당하거나 변수의 기존 값을 변경하는 연산자\n",
        "# 기본적인 값 할당 외에도 산술 연산과 결합된 형태로 자주 사용됩니다.\n",
        "\n",
        "# <할당 연산자의 종류>\n",
        "# = -> 설명: 변수에 값을 할당\n",
        "x = 5 #변수 x 에 값 5 를 할당합니다.\n",
        "# += -> 설명: 변수에 값을 더한 후 할당\n",
        "x = 5\n",
        "x += 3  # x는 이제 8이 됩니다.\n",
        "        # x 에 3 을 더한 값을 다시 x에 할당합니다.\n",
        "print(x)\n",
        "\n",
        "# -= -> 설명: 변수에서 값을 뺀 후 할당\n",
        "x = 5\n",
        "x -= 2  # x는 이제 3이 됩니다.\n",
        "        # x 에서 2를 뺀 값을 다시 x에 할당합니다.\n",
        "print(x)\n",
        "\n",
        "# *= -> 설명: 변수를 값과 곱한 후 할당\n",
        "x = 5\n",
        "x *= 4  # x는 이제 20이 됩니다.\n",
        "        # x에 4를 곱한 값을 다시 x에 할당합니다.\n",
        "print(x)\n",
        "\n",
        "# /= -> 설명: 변수를 값으로 나눈 후 할당\n",
        "x = 20\n",
        "x /= 4  # x는 이제 5.0이 됩니다.\n",
        "        # x를 4로 나눈 값을 다시 x에 할당합니다.\n",
        "print(x)\n",
        "\n",
        "# // -> 설명: 변수를 값으로 나눈 몫을 구한 후 할당\n",
        "x = 20\n",
        "x //= 3  # x는 이제 6이 됩니다.\n",
        "         # x를 3으로 나눈 몫을 다시 x에 할당합니다.\n",
        "print(x)\n",
        "\n",
        "# % -> 설명: 변수를 값으로 나눈 나머지를 구한 후 할당\n",
        "x = 20\n",
        "x %= 3  # x는 이제 2가 됩니다.\n",
        "        # x를 3으로 나눈 나머지를 다시 x에 할당합니다.\n",
        "print(x)"
      ],
      "metadata": {
        "id": "159ppHrT0vHv",
        "collapsed": true
      },
      "execution_count": null,
      "outputs": []
    },
    {
      "cell_type": "code",
      "source": [
        "# 자료 구조\n",
        "# 데이터를 담고 있는 무언가를 우리는 \"변수\"라고 부른다\n",
        "# 이러한 자료를 담고 있는 무언가의 모양을 우리는 \"자료구조\"라 한다."
      ],
      "metadata": {
        "id": "QMWS0JDb0vJ_"
      },
      "execution_count": null,
      "outputs": []
    },
    {
      "cell_type": "code",
      "source": [
        "# 파스칼표기법 - 맨 앞글자만 대문자(Java 의 class 생성시 활용)\n",
        "# 카엘표기법 - 단어의 의미가 있는 첫글자를 대문자로 한다.(shopList)\n",
        "# 스네이크표기법 - 단어간의 구분을 _로 한다.(shop_list)"
      ],
      "metadata": {
        "id": "eyPcdu9pmYZh"
      },
      "execution_count": null,
      "outputs": []
    },
    {
      "cell_type": "code",
      "source": [
        "# 자료 구조 - List\n",
        "# 변수는 물이나 각종 음료를 담고 있는 잔과 같다고 했다. List는 변수를 일렬로 세워놓고 각 변수에 번호를 붙여 놓은 형태이다.\n",
        "# 결국 리스트가 점검하거나 기억하기 쉽도록 특별한 순서로 적어놓은 것임을 알 수 있고, 프로그래밍 언어 차원에서 본다면 데이터들을 잘 관리할 수 있도록 순서를 정해서 관리하는 데이터 타입의 하나 이다. 라고 생각하면 되겠습니다."
      ],
      "metadata": {
        "id": "7df4s4KI0vYm"
      },
      "execution_count": null,
      "outputs": []
    },
    {
      "cell_type": "code",
      "source": [
        "# 리스트 생성 방법1 - 비어있는 리스트로 생성\n",
        "a = []\n",
        "\n",
        "# 리스트 생성 방법2 - 값이있는 리스트로 생성\n",
        "shop_list = ['apple','mango','carrot','banana']\n",
        "print(f'shop_list: {shop_list}')"
      ],
      "metadata": {
        "id": "0agIpAnO0vao"
      },
      "execution_count": null,
      "outputs": []
    },
    {
      "cell_type": "code",
      "source": [
        "# 리스트를 만드는 방법\n",
        "# 리스트변수이름= [요소1, 요소2,...] -> 이렇게 대괄호 안에 요소들이 순서대로 존재\n",
        "shop_list = ['apple','mango','carrot','banana']\n",
        "print(f'shop_list: {shop_list}')\n",
        "\n",
        "# 만약 안에 요소를 가지고 있지 않는다 해도 리스트 타입은 맞으며, 요소가 없는 리스트 타입. 즉 비어있는 리스트 인 것 입니다.\n",
        "a = []\n",
        "\n",
        "# 파이썬에서 리스트를 만드는 방법 2가지\n",
        "# 1. 대괄호를 이용하는 방법\n",
        "# 2. list()를 이용한 방법\n",
        "\n",
        "# 대괄호를 이용\n",
        "a = [1, 2, 3, 4, 5]\n",
        "b = ['blockdmask', 2, 4, 'blog']\n",
        "c = []\n",
        "print(a)\n",
        "print(b)\n",
        "print(c)\n",
        "\n",
        "# list()를 이용\n",
        "d = list()\n",
        "print(d)"
      ],
      "metadata": {
        "id": "jJTJwnzf0vce"
      },
      "execution_count": null,
      "outputs": []
    },
    {
      "cell_type": "code",
      "source": [
        "# 리스트에 값을 넣는 방법\n",
        "\n",
        "# append()함수 사용 -> 가장뒤로부터 넣는 방법 (순차적으로 들어간다)\n",
        "# append() 함수는 파이썬에서 리스트의 끝에 새로운 요소를 추가하는 함수입니다.\n",
        "a = []\n",
        "a.append(1)\n",
        "print(a)\n",
        "\n",
        "a.append(2)\n",
        "print(a)\n",
        "\n",
        "a.append(3)\n",
        "print(a)\n",
        "\n",
        "# insert()함수 -> 특정한 번호를 지정해서 넣는 방법\n",
        "# insert(a, b)는 리스트의 a번째 위치에 b를 삽입하는 함수이다. 파이썬은 숫자를 0부터 센다는 것을 반드시 기억하자.\n",
        "a.insert(1,'X')\n",
        "print(a)\n",
        "\n",
        "# Python에서 데이터의 길이나 크기를 확인하는 작업에서 많이 사용하는 함수가 len() 함수\n",
        "# len() 함수는 Python에서 객체(문자열, 리스트,튜플??? 등)의 길이나 크기를 반환하는 함수\n",
        "# 리스트의 길이\n",
        "print(a)\n",
        "print(f'a : {a}')\n",
        "print(f'a의 길이 : {len(a)}') # a리스트의 길이 구하기\n",
        "\n",
        "# 인덱스 알아보기!\n",
        "# 시퀀스 객체의 각 요소는 순서가 정해져 있으며, 이 순서를 인덱스라고 부름\n",
        "# 시퀀스 객체에 [](대괄호)를 붙이고 [] 안에 각 요소의 인덱스를 지정하면 해당 요소에 접근할 수 있음\n",
        "print(f'a : {a}')\n",
        "a[0] # 리스트의 첫 번째(인덱스 0) 요소 출력\n",
        "a[1] # 리스트의 두 번째(인덱스 1) 요소 출력\n",
        "a[2] # 리스트의 세 번째(인덱스 2) 요소 출력\n",
        "a[3] # 리스트의 네 번째(인덱스 3) 요소 출력\n",
        "\n",
        "# 주의할 점은 시퀀스 객체의 인덱스는 항상 0부터 시작\n",
        "# a의 2번방에 있는 값 구하기\n",
        "print(f'a[2]={a[2]}')\n",
        "\n",
        "# a의 가장 마지막 방에 있는 값\n",
        "print(f'a 의 마지막 방의 값 = {a[3]}')\n",
        "\n",
        "# 길이에서 1을 뺀 값을 이용 -> 인덱스는 0번부터 시작한다는 점을 이용\n",
        "print(f'a 의 마지막 방의 값 = {a[len(a)-1]}')\n",
        "\n",
        "# 파이썬에서 사용되는 방식, 0 보다 뒤로가면 맨 뒤로 이동된다는 개념\n",
        "print(f'a 의 마지막 방의 값 = {a[-1]}')\n",
        "\n",
        "# a 의 2번 인덱스에 c를 넣는다\n",
        "# insert 와 다른점은 해당 인덱스의 값을 지우고 그자리에 들어간다는 것이다.\n",
        "print(f'a: {a}') # 인덱스 2번 자리는 2\n",
        "a[2] = 'c'\n",
        "print(f'a: {a}') # 인덱스 2번 자리는 'c'로 변경\n",
        "\n",
        "# list 삭제\n",
        "del a[1]\n",
        "print(f'a: {a}') # 인덱스 1번 자리 삭제 즉 [1,'X','c',3] => [1,'c',3]"
      ],
      "metadata": {
        "id": "TrmS3OXa0vee"
      },
      "execution_count": null,
      "outputs": []
    },
    {
      "cell_type": "code",
      "source": [
        "# 리스트 정렬 => sort() 와 sorted()\n",
        "\n",
        "# sort()함수는 리스트 자체를 정렬하는 함수\n",
        "# 원본 리스트를 직접적으로 변경하여 정렬된 결과를 반환 -> 즉 \"기존의 리스트를 수정하여 정렬된 결과를 반환\"\n",
        "# sort() 함수는 List 객체의 메소드로 \"List 객체에서만 사용 가능\"\n",
        "# sort() 함수는 내부에서 원소의 위치를 바꾸는 정렬 방식을 사용하기 때문에 정렬을 위해 추가적인 메모리를 사용X => 리스트가 크거나 메모리가 제한된 환경에서 sort()함수를 사용하는 것이 효율적\n",
        "shop_list = ['apple','mango','carrot','banana']\n",
        "print(f'shop_list: {shop_list}')\n",
        "\n",
        "shop_list.sort() # 오름차순, 작은수 위로\n",
        "print(f'shop_list: {shop_list}')\n",
        "\n",
        "shop_list.sort(reverse=True) # 내림차순, 큰수가 위로\n",
        "print(f'shop_list: {shop_list}')\n",
        "\n",
        "# sorted() 함수는 원본 리스트를 복사하여 새로운 리스트를 생성하고, 이 리스트를 정렬하여 결과를 반환합니다. 즉 원본 리스트는 변경이 되지 않고 \"정렬된 새로운 리스트\"를 반환합니다.\n",
        "# sorted() 함수는 파이썬 내장 함수로 \"iterable 객체에서 사용 가능\" ??? iterable 객체이 무슨말인지 모르겠음\n",
        "# sorted() 함수는 정렬된 새로운 리스트를 반환하기 때문에 \"원본 리스트를 보존해야 하는 경우\" 사용하기 좋습니다.\n",
        "# sorted() 함수는 정렬된 새로운 리스트를 만드는 과정에서\" 메모리를 추가적으로 사용\"하기 때문에 sort보다 느려질 수 있습니다.\n",
        "new_list = sorted(shop_list)\n",
        "print(f'new_list: {new_list}') # 알파벳 순서대로 나오는 것을 확인할 수 있다.(=오름차순)"
      ],
      "metadata": {
        "id": "tvltJIq8xmaT"
      },
      "execution_count": null,
      "outputs": []
    },
    {
      "cell_type": "code",
      "source": [
        "# 슬라이싱(특정 영역만큼 선택해서 보여주거나 값을 추가하는 방법)\n",
        "\n",
        "# 슬라이싱 기본형태\n",
        "# a[start : end : step]\n",
        "# 각각 start, end, step 모두 양수와 음수를 가질 수 있습니다.\n",
        "# start: 슬라이싱을 시작할 시작위치입니다.\n",
        "# end: 슬라이싱을 끝낼 위치로 end는 포함하지 않습니다! -> end-1까지\n",
        "# step: stride(보폭)라고도 하며 몇개씩 끊어서 가져올지와 방향을 정합니다. (옵션) <- 강의에서는 배우지 않았음!\n",
        "\n",
        "#슬라이싱 예제 만들어보기!\n",
        "arr = ['Life','is','too','short']\n",
        "print(arr)\n",
        "\n",
        "# arr[보여줄시작인덱스:버릴시작인덱스] <- 이런 모양의 슬라이싱을 만들어보겠습니다.\n",
        "area = arr[0:2] # 0~1 까지 보여준다.(0번부터 보여주고 2번부터 버린다.)\n",
        "print(area)\n",
        "area = arr[2:4] # 2~3 까지 보여주겠다.(2번부터 보여주고 4번부터 버린다.)\n",
        "print(arr[2:4])\n",
        "area = arr[:2] # 0번부터 보여주고, 2번부터 버린다\n",
        "print(area)\n",
        "area = arr[2:] # 2번부터 보여주고...\n",
        "print(area)\n",
        "\n",
        "# 특정 영역을 지정해서 값을 추가 할 수도 있다.\n",
        "arr[1:3] = ['A','B','C'] # 1~2 영역을 A,B,C 로 대체 하겠다.\n",
        "print(arr)\n",
        "arr[2:3] = ['가','나','다'] # 2영역을 가,나,다로 대체하겠다.\n",
        "print(arr)\n",
        "arr[2:2] = ['가','나','다'] # 2영역을 가,나,다 추가\n",
        "print(arr)\n",
        "\n",
        "# 특정 영역을 커서로 드래그 한 다음 수정하느냐, 그냥 클릭만해서 수정하느냐\n",
        "# ['Life', 'A', 'B', 'C', 'short']"
      ],
      "metadata": {
        "id": "TMLqiuZz1bJe"
      },
      "execution_count": null,
      "outputs": []
    },
    {
      "cell_type": "code",
      "source": [
        "# 리스트끼리 연산\n",
        "a = [1,2,3,4,5]\n",
        "b = ['a','b','c','d']\n",
        "print(a+b) # 리스트 합치기\n",
        "print(a*3) # list 반복"
      ],
      "metadata": {
        "id": "XKZL3ro-1bNV"
      },
      "execution_count": null,
      "outputs": []
    },
    {
      "cell_type": "code",
      "source": [
        "# index()의 개념\n",
        "# array.index(\"찾을 값\", start, stop)\n",
        "# index()함수는 찾고자 하는 값의 인덱스 위치를 반환해주는 함수\n",
        "# 찾는 문자가 존재한다면, 해당 위치의 index를 반환\n",
        "# 만약 찾는 문자가 여러 개 있다면 맨 처음 찾은 문자의 index를 반환"
      ],
      "metadata": {
        "id": "0bKYY2I3SRgA"
      },
      "execution_count": null,
      "outputs": []
    },
    {
      "cell_type": "code",
      "source": [
        "#검색 -> 특정한 자료 덩어리에서 원하는 값을 찾는것\n",
        "a = [3,4,1,2,3,4,'G','F','G']\n",
        "\n",
        "# 원하는 값의 인덱스 찾기\n",
        "# 2 라는 값은 어느 위치에 있는가?\n",
        "print(f'2는 어디?:{a.index(2)} ')\n",
        "print(f'G는 어디?:{a.index('G')} ') # G 는 2개 이지만 처음 찾은 값만 알려준다.\n",
        "\n",
        "# 5번 인덱스 부터 'G' 를 찾아라\n",
        "print(f'G는 어디?:{a.index('G',5)} ')\n",
        "\n",
        "# 값이 없으면 에러(예외)를 발생 시킨다.\n",
        "#print(a.index('H')) # ValueError: 'H' is not in list\n"
      ],
      "metadata": {
        "id": "rZce8SJvRjGV"
      },
      "execution_count": null,
      "outputs": []
    },
    {
      "cell_type": "code",
      "source": [
        "b = [3,4,1,2,3,4,5,6,1,3,2] # 모든 3을 찾아 보세요.\n",
        "\n",
        "idx = 0\n",
        "while True:\n",
        "    idx = b.index(3,idx)\n",
        "    print(f'3의 인덱스: {idx}')\n",
        "    idx += 1"
      ],
      "metadata": {
        "id": "WLkvaCdRRpW3"
      },
      "execution_count": null,
      "outputs": []
    },
    {
      "cell_type": "code",
      "source": [
        "b = [3,4,1,2,3,4,5,6,1,3,2] # 모든 3을 찾아 보세요.\n",
        "\n",
        "idx = 0\n",
        "\n",
        "for i in b:\n",
        "    if i == 3:\n",
        "        print(f'3이 있는 인덱스: {idx}')\n",
        "    idx += 1"
      ],
      "metadata": {
        "id": "MOetJWbbXiqa"
      },
      "execution_count": null,
      "outputs": []
    },
    {
      "cell_type": "code",
      "source": [
        "# 리스트 요소 삭제\n",
        "# del a[3] 과 a.remove\n",
        "# del 은 특정 인덱스의 값을 지운다.\n",
        "# remove 는 해당 값을 지운다.(한개만)\n",
        "\n",
        "a = [3,4,1,2,3,4,'G','F','G']\n",
        "\n",
        "print(f'a : {a}')\n",
        "a.remove(3)\n",
        "print(f'a : {a}')\n",
        "\n",
        "# 보충설명: https://ooyoung.tistory.com/49"
      ],
      "metadata": {
        "id": "5VaBHL_EcEpi"
      },
      "execution_count": null,
      "outputs": []
    },
    {
      "cell_type": "code",
      "source": [
        "# pop() = append() 의 반대개념\n",
        "# 맨마지막 요소를 빼낸다.(리스트에서는 사라진다.)\n",
        "val = a.pop()\n",
        "print(f'빼낸 값 : {val} / a: {a}')\n",
        "val = a.pop()\n",
        "print(f'빼낸 값 : {val} / a: {a}')"
      ],
      "metadata": {
        "id": "2aYaSzvNcEl_"
      },
      "execution_count": null,
      "outputs": []
    },
    {
      "cell_type": "code",
      "source": [
        "# 리스트 확장(더하기와 비슷한 개념)\n",
        "print(a)\n",
        "a.extend(b)\n",
        "print(a)"
      ],
      "metadata": {
        "id": "8P1UlMxWcEOL"
      },
      "execution_count": null,
      "outputs": []
    },
    {
      "cell_type": "code",
      "source": [
        "#count(val) 특정한 값이 해당 리스트에 몇개 있는지 확인\n",
        "print(a)\n",
        "print(f'a 안에 3인 값은 {a.count(3)} 개  가 있다.')\n",
        "print(f'a 안에 9인 값은 {a.count(9)} 개  가 있다.')# 없는 값은 0을 반환"
      ],
      "metadata": {
        "id": "t4yxMUoJfF61"
      },
      "execution_count": null,
      "outputs": []
    },
    {
      "cell_type": "code",
      "source": [
        "# a 안에 있는 모든 3을 지워주세요\n",
        "# a에 있는 3 지우기, 못찾을때 까지? 갯수가 0개 일때 까지?\n",
        "\n",
        "for n in a:\n",
        "    if n == 3:\n",
        "        a.remove(3)\n",
        "print(a)"
      ],
      "metadata": {
        "id": "osXHtDmnfPl-"
      },
      "execution_count": null,
      "outputs": []
    },
    {
      "cell_type": "code",
      "source": [
        "a = [3,4,1,2,3,4,'G','F','G']\n",
        "\n",
        "while True:\n",
        "    a.remove(3)\n",
        "    if a.count(3) == 0:\n",
        "        break\n",
        "print(a)"
      ],
      "metadata": {
        "id": "80stgH6cg_Bd"
      },
      "execution_count": null,
      "outputs": []
    },
    {
      "cell_type": "code",
      "source": [
        "# List 요약\n",
        "# 1. List 는 하나의 이름으로 여러 값을 담을 수 있다.\n",
        "# 2. List 는 데이터 값 마다 고유의 방 번호(index)가 존재한다.\n",
        "# 3. List 안에 List가 존재 할 수 있으며 이 경우 2차원 리스트라고 부른다."
      ],
      "metadata": {
        "id": "WRJ05p_5Q5Z2"
      },
      "execution_count": null,
      "outputs": []
    }
  ]
}