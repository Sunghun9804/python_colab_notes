{
  "nbformat": 4,
  "nbformat_minor": 0,
  "metadata": {
    "colab": {
      "private_outputs": true,
      "provenance": [],
      "authorship_tag": "ABX9TyOjWDHxVGwD0thBaGiS2qnt"
    },
    "kernelspec": {
      "name": "python3",
      "display_name": "Python 3"
    },
    "language_info": {
      "name": "python"
    }
  },
  "cells": [
    {
      "cell_type": "code",
      "source": [
        "# 자료 구조\n",
        "# 데이터를 담고 있는 무언가를 우리는 \"변수(variable)\"라고 부른다.\n",
        "# 이러한 자료를 담고 있는 무언가의 모양을 우리는 \"자료구조(data structure)\" 라 한다.\n",
        "# ex) list, dictionary, set 등이 있다."
      ],
      "metadata": {
        "id": "lGqjgJNUg8Xs"
      },
      "execution_count": null,
      "outputs": []
    },
    {
      "cell_type": "code",
      "source": [
        "# List 란?\n",
        "# 변수는 물을 담고 있는 컵과 같다고 했다.\n",
        "# List는 변수를 일렬로 세워놓고 각 변수에 번호를 붙여 놓은 형태이다.\n",
        "# List의 원리는 무작위로 있는 맥주잔을 특정 잔을 기준으로 나열 해 놓는 것이다.\n",
        "# 각 잔들은 기준 잔에서 얼마나 떨어져 있는지가 자동으로 이름이 된다."
      ],
      "metadata": {
        "id": "Kq6j0OY-hV67"
      },
      "execution_count": null,
      "outputs": []
    },
    {
      "cell_type": "code",
      "source": [
        "# List 값 불러오기\n",
        "# List 에는 각 데이터마다 머무르는 주소가 있다고 했다.\n",
        "# 이 주소를 이용해 데이터를 불러내거나 수정 할 수 있다.\n",
        "# 그 밖에 여러 함수를 통해 데이터를 다룰 수 있다.\n",
        "# ex) len(a), a[2], a.inser(3, \"value_D\")"
      ],
      "metadata": {
        "id": "dB8BWgG9hxuD"
      },
      "execution_count": null,
      "outputs": []
    },
    {
      "cell_type": "code",
      "execution_count": null,
      "metadata": {
        "id": "o_57e_nWhZsv"
      },
      "outputs": [],
      "source": [
        "# Multi Dimension List\n",
        "# 차원은 1차원 2차원 3차원 등 다차원을 활용 할 수 있다.\n",
        "# 다차원 배열의 개념을 아파트와 방의 개념으로 생각 해 보자\n",
        "# royal[1] = ROYAL 아파트 1호\n",
        "# 2차원 : royal[1][2] = ROYAL 아파트 1층 2호\n",
        "# 3차원 : royal[1][2][0] = ROYAL 아파트 1층 2호 0번 방"
      ]
    },
    {
      "cell_type": "code",
      "source": [
        "# 차원은 1차원 2차원 3차원 등 다차원을 활용 할 수 있다.\n",
        "# 다차원 배열의 개념을 아파트와 방의 개념으로 생각해 보자!"
      ],
      "metadata": {
        "id": "Wg4gKeX9iXtr"
      },
      "execution_count": null,
      "outputs": []
    },
    {
      "cell_type": "code",
      "source": [
        "# arr 이라는 아파트가 생겼다. 2개층, 3개호 이다.\n",
        "# 층을 만들어야 한다\n",
        "arr = [\n",
        "    [0,1,2], # 층을 의미, 0호 1호 2호\n",
        "    [10,11,12]  # 층을 의미, 1층0호, 1층1호, 1층2호\n",
        "]\n",
        "\n",
        "# royal 아파트가 4개층 4개호이다. (모양은 편한대로하면 된다.)\n",
        "royal = [[],[],[],[],]\n",
        "# 한번에 한층을 밀어넣기\n",
        "royal[0] = [\"0층0호\",\"0층1호\",\"0층2호\",\"0층3호\"]\n",
        "royal[1] = [\"1층0호\",\"1층1호\",\"1층2호\",\"1층3호\"]\n",
        "\n",
        "royal[2] = [\n",
        "    [\"2층0호0번방\",\"2층0호1번방\",\"2층0호2번방\"], # 각 호\n",
        "    [\"2층1호0번방\",\"2층1호1번방\",\"2층1호2번방\"],\n",
        "    [\"2층2호0번방\",\"2층2호1번방\",\"2층2호2번방\"],\n",
        "]\n",
        "\n",
        "royal[3] = [\n",
        "    [\"3층0호0번방\",\"3층0호1번방\",\"3층0호2번방\"],\n",
        "    [\"3층1호0번방\",\"3층1호1번방\",\"3층1호2번방\"],\n",
        "    [\"3층2호0번방\",\"3층2호1번방\",\"3층2호2번방\"]\n",
        "]\n",
        "\n",
        "# 전체 리스트 확인\n",
        "print(royal)\n",
        "# 특정 층만 보고 싶을때\n",
        "print(royal[2])\n",
        "# 특정 층의 특정 호를 보고싶을때\n",
        "print(royal[2][2])\n",
        "# 특정 층-> 호-> 방을 보고 싶을때\n",
        "print(royal[2][2][1])\n",
        "\n",
        "# 복습할때 코드와 결과를 비교해보면서 구조가 어떤식으로 이루어져있는지 이해해보자"
      ],
      "metadata": {
        "id": "5y424KdDfRtc"
      },
      "execution_count": null,
      "outputs": []
    },
    {
      "cell_type": "code",
      "source": [
        "# List 요약(Summary)\n",
        "# 1. List 는 하나의 이름으로 여러 값을 담을 수 있다.\n",
        "# 2. List 는 데이터 값 마다 고유의 방 번호(index)가 존재한다.\n",
        "# 3. List 안에 List 가 존재 할 수 있으며 이 경우 2차원 리스트라고 부른다"
      ],
      "metadata": {
        "id": "1_dT2k6UijOi"
      },
      "execution_count": null,
      "outputs": []
    },
    {
      "cell_type": "code",
      "source": [
        "# Tuple 이란?\n",
        "# Tuple 은 기본적으로는 list 와 비슷하다.\n",
        "\n",
        "# !!!하지만 다른 점이 있다!!!\n",
        "# 1) Tuple 은 수정 및 삭제가 되지 않는다.\n",
        "# 2) Tuple 은 선언 시 [] 대신 () 를 사용 한다\n",
        "\n",
        "tu1 = (1,2,3) # tuple 은 []가 아닌 ()로 선언\n",
        "tu2 = ('a','b','c')\n",
        "tu3 = (1,2,('a','b'))\n",
        "\n",
        "# 불러오기\n",
        "print(tu1[1])\n",
        "# slicing\n",
        "print(tu2[1:])\n",
        "# 더하기\n",
        "print(tu1+tu2)\n",
        "# 곱하기\n",
        "print(tu1*3)\n",
        "\n",
        "# tuple <-- --> list 간의 전환\n",
        "tu2list = list(tu2) # list 함수에 내가 원하는 tuple 대입\n",
        "print(f'{tu2} -> {tu2list}') # ()->[]\n",
        "\n",
        "list2tu = tuple(tu2list)\n",
        "print(f'{tu2list} -> {list2tu}') # []->()"
      ],
      "metadata": {
        "id": "EmQ3Zf8zmfMF"
      },
      "execution_count": null,
      "outputs": []
    },
    {
      "cell_type": "code",
      "source": [
        "# 자료 구조 - Dictionary\n",
        "# dictionary 이란?\n",
        "# Dictionary 는 key 와 value 로 구성된 데이터 형태를 가지고 있다. -> {key : value}\n",
        "# Dictionary 의 key 는 중복 될 수 없다. -> (중복되면 덮어 쓴다.)\n",
        "# 마치 사전의 {단어 : 설명} 처럼 {key, value} 의 형태로 되어있어서"
      ],
      "metadata": {
        "id": "tqPnDRFjltuL"
      },
      "execution_count": null,
      "outputs": []
    },
    {
      "cell_type": "code",
      "source": [
        "# 사전은 key:value 형태로 되어있다.\n",
        "# 비슷한 자료구조로는 자바스크립트에는 오브젝트, 자바의 맵이 있다.\n",
        "\n",
        "# 만들자마자 넣는 방법\n",
        "# 열고닫고 먼저 꼭 하자!\n",
        "dic = {'name':'Jeong seong-hun',\n",
        "        'phone':'010-1234-1234',\n",
        "        'age':55\n",
        "}\n",
        "\n",
        "dic2 = {'name':'Messi',\n",
        "        'phone':'010-2233-5454',\n",
        "        'friends':['Alice','John','Smith']\n",
        "}\n",
        "\n",
        "# 사전에 데이터 넣기 1\n",
        "a = {'first':'a'}\n",
        "print(a)\n",
        "# 사전에 데이터 넣기 2\n",
        "a['second'] = 'b'\n",
        "print(a)\n",
        "\n",
        "# 사전에서 특정 요소 삭제\n",
        "del a['second']\n",
        "print(a)\n",
        "\n",
        "# 사전에 특정 요소를 꺼내보자(사용법은 List 와 비슷하다.)\n",
        "# key를 직접 입력\n",
        "print(dic2['name'])\n",
        "print(dic2['friends'])\n",
        "\n",
        "# get()함수 사용\n",
        "print(dic2.get('phone'))\n",
        "# 특정 키가 없는경우 None이 아닌 대체 내용으로 반환할수 있음\n",
        "print(dic2.get('nick')) # -> 실행하면 None 나옴\n",
        "print(dic2.get('nick','해당 내용이 없음')) # -> \"해당 내용이 없음\" 으로 나옴"
      ],
      "metadata": {
        "id": "3TqyycA6mrVF"
      },
      "execution_count": null,
      "outputs": []
    },
    {
      "cell_type": "code",
      "source": [
        "dic = {\n",
        "    'name':'hong,gil-dong',\n",
        "    'phone':'010-1234-1234',\n",
        "    'friends':['Alice','Smith','Jhone']\n",
        "}\n",
        "\n",
        "# dic.keys(): 특정한 사전의 키들만 가져와 dict_keys 라는 객체를 반환한다.\n",
        "print(dic.keys())\n",
        "\n",
        "for item in dic.keys():\n",
        "    print(item)\n",
        "\n",
        "#dict_keys -> list 로 변환\n",
        "keys = list(dic.keys())\n",
        "print(keys)\n",
        "\n",
        "# dic.values(): 특정 사전의 값만 가져와 dict_values 라는 객체를 반환\n",
        "print(dic.values())\n",
        "\n",
        "# list 로 변경해서 values 라는 변수에 담아보다\n",
        "# dict_values -> list 로 변환\n",
        "\n",
        "values = list(dic.values())\n",
        "print(values)\n",
        "\n",
        "# dic.items() : 사전의 key:value 을 한 쌍으로가져와 dic.items 로 반환한다.\n",
        "# 각 key와 value 값은 ()모양으로 보아 tuple 이다.\n",
        "print(dic.items())\n",
        "# list 로 변환해 보면 list 안에 각 키와 값이 튜플로 저장되어 있음을 알 수 있다.\n",
        "li = list(dic.items())\n",
        "print(li)\n",
        "\n",
        "# 값을 가져오기\n",
        "print(dic.get('name'))\n",
        "print(dic['phone'])\n",
        "\n",
        "# dic 안에 있는 모든 키와 값을 키:값 형태로 출력해 보자\n",
        "# 1. 키를 뽑아낸다음, 키를가지고 값을 뽑아내는 방법\n",
        "for key in dic.keys():\n",
        "    print(f'{key}:{dic[key]}')\n",
        "\n",
        "# 2. 키와 값을 동시에 뽑아낸 다음 거기서 키와 값을 각각 추출하는 방식\n",
        "for item in dic.items():\n",
        "    print(item)\n",
        "    print(f'{item[0]}={item[1]}')\n",
        "\n",
        "members = {\n",
        "    'kim':63, 'lee':88, 'park':97, \"gang\":77, \"hwang\":100, \"ga\":65,\n",
        "    \"na\":92, \"la\":90, \"wang\":100, \"gu\":79\n",
        "}\n",
        "\n",
        "# 90이상인 사람의 이름만 출력\n",
        "\n",
        "# 내가 만든 답안\n",
        "# print(members.keys())\n",
        "# print(members.values())\n",
        "# list_members = list(members)\n",
        "# list_values=list(members.values())\n",
        "#\n",
        "# for i in range(len(list_members)):\n",
        "#     if list_values[i] >= 90:\n",
        "#         print(f'90점 이상인 사람은 {list_members[i]}입니다.')\n",
        "#         i += 1\n",
        "\n",
        "# 90이상의 사람의 이름만 출력 ()\n",
        "for item in members.items():\n",
        "    if item[1] >= 90:\n",
        "        print(f'이름 : {item[0]}')\n",
        "\n",
        "\n",
        "# key in dic : 해당 키가 사전에 존재하는지 확인\n",
        "# 검색 시작여부를 결정할수 있는 방법\n",
        "yn = 'kim' in members\n",
        "print(f'kim이 있는가? {yn}')\n",
        "\n",
        "yn = 'Jung' in members\n",
        "print(f'Jung이 있는가? {yn}')\n",
        "\n",
        "# update : 이미 있는 key면 수정을, 없는 key면 추가를 하는 함수\n",
        "dic.update({'name':'홍길동','age':30,'married':False})\n",
        "print(dic)\n",
        "\n",
        "# dic.clear() : 사전안의 내용을 모두 지운다.\n",
        "dic.clear()\n",
        "print(dic)"
      ],
      "metadata": {
        "id": "pIVpTv3XmiTj"
      },
      "execution_count": null,
      "outputs": []
    },
    {
      "cell_type": "code",
      "source": [
        "# 자료 구조 - set\n",
        "# Set 이란?\n",
        "# Set 은 집합을 의미한다.(교집합, 합집합, 차 집합 등...)\n",
        "# Set 은 순서가 없으며 중복을 허용하지 않는다."
      ],
      "metadata": {
        "id": "8j42UDTDnHJ7"
      },
      "execution_count": null,
      "outputs": []
    },
    {
      "cell_type": "code",
      "source": [
        "# set 은 순서가 없고, 중복을 허용하지 않는다.\n",
        "number_set = set([1,2,3])\n",
        "print(number_set)\n",
        "\n",
        "# 중복을 제외하고 담는다.\n",
        "# 그래서 중복 제거용도로 사용된다.\n",
        "str_set = set(\"HelloWord\")\n",
        "print(str_set) # l,o 1개씩만 출력\n",
        "\n",
        "# set 들을 이용해서 집합을 구현할 수 있다.\n",
        "s1 = set([1,2,3,4,5,6])\n",
        "s2 = set([4,5,6,7,8,9])\n",
        "\n",
        "# 교집합(intersection)\n",
        "print(f'교집합1 : {s1 & s2}')\n",
        "print(f'교집합2 : {s1.intersection(s2)}')\n",
        "\n",
        "# 합집합(union)\n",
        "print(f'합집합1 : {s1|s2}')\n",
        "print(f'합집합2 : {s1.union(s2)}')\n",
        "\n",
        "# 차집합(minus|difference) -> 차는 차이, 얼마나 달라? 의미\n",
        "print(f'차집합:{s1-s2}')\n",
        "print(f'차집합:{s2-s1}')\n",
        "\n",
        "# 값 1개 추가하기\n",
        "s1.add(10)\n",
        "print(s1)\n",
        "\n",
        "# 여러개 추가하기\n",
        "s1.update([10,20,30])\n",
        "print(s1)\n",
        "\n",
        "# 특정값 제거\n",
        "s1.remove(10)\n",
        "print(s1)\n",
        "# s1.remove(10) <- 없는 값을 지우려고 하면 KeyError 발생\n",
        "s1.discard(10) # remove 와 같으나 없는 값을 지우려고 해도 에러가 나지 않는다."
      ],
      "metadata": {
        "id": "UZ5HjYFuvIE7"
      },
      "execution_count": null,
      "outputs": []
    }
  ]
}